{
 "cells": [
  {
   "cell_type": "code",
   "execution_count": 10,
   "id": "886817fb-738e-433a-8490-00471e613459",
   "metadata": {},
   "outputs": [],
   "source": [
    "def lightcurve():\n",
    "    import lightcurve as lk\n",
    "    print(\"good\")"
   ]
  },
  {
   "cell_type": "code",
   "execution_count": 11,
   "id": "ca6431b0-8564-4224-9dd8-20daff2ce873",
   "metadata": {},
   "outputs": [],
   "source": [
    "x=import_lightcurve"
   ]
  },
  {
   "cell_type": "raw",
   "id": "2572b5ef-b998-4b4a-9df8-b5b112456922",
   "metadata": {},
   "source": [
    "print(x)"
   ]
  },
  {
   "cell_type": "code",
   "execution_count": null,
   "id": "7d220b36-658d-4aea-af78-52d57863f946",
   "metadata": {},
   "outputs": [],
   "source": []
  }
 ],
 "metadata": {
  "kernelspec": {
   "display_name": "Python (astro-env)",
   "language": "python",
   "name": "astro-env"
  },
  "language_info": {
   "codemirror_mode": {
    "name": "ipython",
    "version": 3
   },
   "file_extension": ".py",
   "mimetype": "text/x-python",
   "name": "python",
   "nbconvert_exporter": "python",
   "pygments_lexer": "ipython3",
   "version": "3.11.13"
  }
 },
 "nbformat": 4,
 "nbformat_minor": 5
}
